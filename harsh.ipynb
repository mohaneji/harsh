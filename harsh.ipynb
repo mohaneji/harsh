{
  "nbformat": 4,
  "nbformat_minor": 0,
  "metadata": {
    "colab": {
      "provenance": []
    },
    "kernelspec": {
      "name": "python3",
      "display_name": "Python 3"
    },
    "language_info": {
      "name": "python"
    }
  },
  "cells": [
    {
      "cell_type": "code",
      "execution_count": null,
      "metadata": {
        "id": "y_jkWbVWGA6n"
      },
      "outputs": [],
      "source": []
    },
    {
      "cell_type": "markdown",
      "source": [
        "**bold text**"
      ],
      "metadata": {
        "id": "QkHflLKIGEuo"
      }
    },
    {
      "cell_type": "markdown",
      "source": [
        "#harsh"
      ],
      "metadata": {
        "id": "xKiNE2cmGHco"
      }
    },
    {
      "cell_type": "code",
      "source": [],
      "metadata": {
        "id": "KzOv9wV4GNvs"
      },
      "execution_count": null,
      "outputs": []
    },
    {
      "cell_type": "markdown",
      "source": [],
      "metadata": {
        "id": "4HO4u46sGPQb"
      }
    },
    {
      "cell_type": "markdown",
      "source": [
        "1.what is the function of maschine is caled ."
      ],
      "metadata": {
        "id": "2u4TrVIjGRnn"
      }
    },
    {
      "cell_type": "markdown",
      "source": [],
      "metadata": {
        "id": "eQmVDq5qGhio"
      }
    },
    {
      "cell_type": "code",
      "source": [
        " - in function of maschine it is called masschine."
      ],
      "metadata": {
        "id": "_x5H-KieGdKb"
      },
      "execution_count": null,
      "outputs": []
    },
    {
      "cell_type": "markdown",
      "source": [],
      "metadata": {
        "id": "CnvTfyDXGjOn"
      }
    }
  ]
}